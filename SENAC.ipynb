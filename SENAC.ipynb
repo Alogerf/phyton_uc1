{
  "nbformat": 4,
  "nbformat_minor": 0,
  "metadata": {
    "colab": {
      "provenance": [],
      "authorship_tag": "ABX9TyP87eDW2e+2tHlhMnY7i8aN",
      "include_colab_link": true
    },
    "kernelspec": {
      "name": "python3",
      "display_name": "Python 3"
    },
    "language_info": {
      "name": "python"
    }
  },
  "cells": [
    {
      "cell_type": "markdown",
      "metadata": {
        "id": "view-in-github",
        "colab_type": "text"
      },
      "source": [
        "<a href=\"https://colab.research.google.com/github/Alogerf/phyton_uc1/blob/main/SENAC.ipynb\" target=\"_parent\"><img src=\"https://colab.research.google.com/assets/colab-badge.svg\" alt=\"Open In Colab\"/></a>"
      ]
    },
    {
      "cell_type": "code",
      "execution_count": null,
      "metadata": {
        "colab": {
          "base_uri": "https://localhost:8080/"
        },
        "id": "kZ_XaIRMaO52",
        "outputId": "bda30ba4-a56f-4d6f-c078-85c1b20c7aed"
      },
      "outputs": [
        {
          "output_type": "stream",
          "name": "stdout",
          "text": [
            "Digite a temperatura em graus Celsius: 25\n",
            "Está agradável.\n"
          ]
        }
      ],
      "source": [
        "try:\n",
        "    temperatura = float(input(\"Digite a temperatura em graus Celsius: \"))\n",
        "\n",
        "    if temperatura < 0:\n",
        "        print(\"Está muito frio.\")\n",
        "    elif temperatura <= 20:\n",
        "        print(\"Está frio.\")\n",
        "    elif temperatura <= 30:\n",
        "        print(\"Está agradável.\")\n",
        "    else:\n",
        "        print(\"Está quente.\")\n",
        "\n",
        "except ValueError:\n",
        "    print(\"Entrada inválida! Por favor, digite um número válido.\")"
      ]
    },
    {
      "cell_type": "code",
      "source": [
        "for x in range(0,20):\n",
        "  if x % 2 == 0: print(x)"
      ],
      "metadata": {
        "colab": {
          "base_uri": "https://localhost:8080/"
        },
        "id": "2f517aSCdyhp",
        "outputId": "d3005687-9248-422c-89dd-1bdddb845dd9"
      },
      "execution_count": null,
      "outputs": [
        {
          "output_type": "stream",
          "name": "stdout",
          "text": [
            "0\n",
            "2\n",
            "4\n",
            "6\n",
            "8\n",
            "10\n",
            "12\n",
            "14\n",
            "16\n",
            "18\n"
          ]
        }
      ]
    },
    {
      "cell_type": "code",
      "source": [
        "x = int(input(\"Me diga um numero\"))\n",
        "\n",
        "if x % 2 == 0:\n",
        "  print(\"par\")\n",
        "else:\n",
        "    print(\"impar\")"
      ],
      "metadata": {
        "colab": {
          "base_uri": "https://localhost:8080/"
        },
        "id": "zKpeAElpfrcq",
        "outputId": "ddda2382-7bb8-4dc8-db9d-3e81c1d24332"
      },
      "execution_count": null,
      "outputs": [
        {
          "output_type": "stream",
          "name": "stdout",
          "text": [
            "Me diga um numero21\n",
            "impar\n"
          ]
        }
      ]
    },
    {
      "cell_type": "markdown",
      "source": [
        "# Nova seção"
      ],
      "metadata": {
        "id": "zoYaaAw7xexB"
      }
    },
    {
      "cell_type": "code",
      "source": [
        "numero = int(input(\"será que é primo?\"))\n",
        "for x in range(2, numero):\n",
        " if numero%x ==0:\n",
        "  print(\"O numero não é primo, ele é divisivel por\", x)\n",
        "  break\n",
        "else:\n",
        "  print(\"O numero é primo ele é divisivel por\", x)"
      ],
      "metadata": {
        "colab": {
          "base_uri": "https://localhost:8080/"
        },
        "id": "pcU8hnbyhiFK",
        "outputId": "d1fc088b-b69b-4311-cdf3-a36b14ed7729"
      },
      "execution_count": null,
      "outputs": [
        {
          "output_type": "stream",
          "name": "stdout",
          "text": [
            "será que é primo?54\n",
            "O numero não é primo, ele é divisivel por 2\n"
          ]
        }
      ]
    },
    {
      "cell_type": "code",
      "source": [
        "soma = 0\n",
        "for i in range(1000):\n",
        "    if i % 3 == 0 or i % 5 == 0:\n",
        "        soma += i\n",
        "\n",
        "print(soma)"
      ],
      "metadata": {
        "colab": {
          "base_uri": "https://localhost:8080/"
        },
        "id": "FzI7zpxxtaj7",
        "outputId": "53fb316e-d9e1-46d5-e4fe-125b210d88c6"
      },
      "execution_count": null,
      "outputs": [
        {
          "output_type": "stream",
          "name": "stdout",
          "text": [
            "233168\n"
          ]
        }
      ]
    },
    {
      "cell_type": "code",
      "source": [
        "teste = int(input(\"Escreva um numero\"))\n",
        "\n",
        "if teste % 3 == 0 and teste % 5 ==0:\n",
        "  print(\"é divisivel por 3\")\n",
        "  print(\"é divisivel por 5\")\n"
      ],
      "metadata": {
        "colab": {
          "base_uri": "https://localhost:8080/"
        },
        "id": "MoNWWWlHzVSq",
        "outputId": "36277471-65cf-415a-cd25-ab0475f872d7"
      },
      "execution_count": null,
      "outputs": [
        {
          "name": "stdout",
          "output_type": "stream",
          "text": [
            "Escreva um numero25\n"
          ]
        }
      ]
    },
    {
      "cell_type": "code",
      "source": [
        "lista =  'Quem ler é gay'\n",
        "print(len(lista))"
      ],
      "metadata": {
        "id": "40kikeVA0IEh",
        "colab": {
          "base_uri": "https://localhost:8080/"
        },
        "outputId": "1055bbf1-6e78-4cb4-a457-7437f189ddc6"
      },
      "execution_count": null,
      "outputs": [
        {
          "output_type": "stream",
          "name": "stdout",
          "text": [
            "14\n"
          ]
        }
      ]
    },
    {
      "cell_type": "code",
      "source": [
        "mercado = (\"arroz\", \"feijão\", \"batata\", \"banana\", \"pão\", \"queijo\", \"sabão\", \"suco\", \"leite\", \"farofa\")\n",
        "print(mercado[0], mercado[1])\n",
        "print(mercado[0][0])"
      ],
      "metadata": {
        "colab": {
          "base_uri": "https://localhost:8080/"
        },
        "id": "OZLAzygI9fUR",
        "outputId": "7c00560a-51aa-4ce4-900e-3aac0f989887"
      },
      "execution_count": null,
      "outputs": [
        {
          "output_type": "stream",
          "name": "stdout",
          "text": [
            "arroz feijão\n",
            "a\n"
          ]
        }
      ]
    },
    {
      "cell_type": "code",
      "source": [
        "carro = [[\"Ford\", \"mustang\", \"preto\", \"2007\", \"Porte esportivo\"],\n",
        "[\"volkswagen\", \"GTI\", \"1993\", \"Porte Compacto\", \"branco\"],\n",
        "[\"Chevrolet\", \"Camaro\", \"amarelo\", \"2010\", \"Porte Esportivo\"],\n",
        "[\"Honda\", \"Civic\", \"cinza\", \"2015\", \"Porte Médio\"],\n",
        "[\"Honda\", \"Civic\", \"cinza\", \"2015\", \"Porte Médio\"]]\n",
        "print(carro[0][1], carro[1][1], carro[2][1], carro[3][1], carro[4][1])"
      ],
      "metadata": {
        "colab": {
          "base_uri": "https://localhost:8080/"
        },
        "id": "hIDj5D24-7oD",
        "outputId": "81d2e91f-6622-4544-cea2-997f2be48806"
      },
      "execution_count": null,
      "outputs": [
        {
          "output_type": "stream",
          "name": "stdout",
          "text": [
            "mustang GTI Camaro Civic Civic\n"
          ]
        }
      ]
    },
    {
      "cell_type": "code",
      "source": [
        "frase = (\"Ésta muito frio\")\n",
        "for letra in frase:\n",
        "    print(letra)"
      ],
      "metadata": {
        "colab": {
          "base_uri": "https://localhost:8080/"
        },
        "id": "csoTGDYiGhzq",
        "outputId": "abaa3c00-d033-4e68-d134-85ebb538a7b2"
      },
      "execution_count": null,
      "outputs": [
        {
          "output_type": "stream",
          "name": "stdout",
          "text": [
            "É\n",
            "s\n",
            "t\n",
            "a\n",
            " \n",
            "m\n",
            "u\n",
            "i\n",
            "t\n",
            "o\n",
            " \n",
            "f\n",
            "r\n",
            "i\n",
            "o\n"
          ]
        }
      ]
    },
    {
      "cell_type": "code",
      "source": [
        "frase = \"Ésta muito frio\"\n",
        "for letra in  range( 14, -1, -1):\n",
        "    print(frase[letra])"
      ],
      "metadata": {
        "colab": {
          "base_uri": "https://localhost:8080/"
        },
        "id": "qKMZXrW7LzmI",
        "outputId": "88c3f91f-e140-4cbc-a77d-c3248eba7271"
      },
      "execution_count": null,
      "outputs": [
        {
          "output_type": "stream",
          "name": "stdout",
          "text": [
            "o\n",
            "i\n",
            "r\n",
            "f\n",
            " \n",
            "o\n",
            "t\n",
            "i\n",
            "u\n",
            "m\n",
            " \n",
            "a\n",
            "t\n",
            "s\n",
            "É\n"
          ]
        }
      ]
    },
    {
      "cell_type": "markdown",
      "source": [
        "# Nova seção"
      ],
      "metadata": {
        "id": "1q-su8oRU_0B"
      }
    },
    {
      "cell_type": "code",
      "source": [
        "fib = [0, 1]\n",
        "while fib[-1] <= 1000:\n",
        "\n",
        "    fib.append(fib[-1]+fib[-2])\n",
        "fib.pop()\n",
        "print(fib)"
      ],
      "metadata": {
        "colab": {
          "base_uri": "https://localhost:8080/"
        },
        "id": "IO4_uBOQRxXq",
        "outputId": "aa36389e-d702-441c-d7f2-06aec3aee5f6"
      },
      "execution_count": null,
      "outputs": [
        {
          "output_type": "stream",
          "name": "stdout",
          "text": [
            "[0, 1, 1, 2, 3, 5, 8, 13, 21, 34, 55, 89, 144, 233, 377, 610, 987]\n"
          ]
        }
      ]
    },
    {
      "cell_type": "code",
      "source": [
        "a, b = 0, 1\n",
        "while a <= 1000:\n",
        "  print(a)\n",
        "  a, b = b, a + b"
      ],
      "metadata": {
        "colab": {
          "base_uri": "https://localhost:8080/"
        },
        "id": "PKXQa95EVRr6",
        "outputId": "e466d316-0d36-452e-9e80-c3b4162eb772"
      },
      "execution_count": null,
      "outputs": [
        {
          "output_type": "stream",
          "name": "stdout",
          "text": [
            "0\n",
            "1\n",
            "1\n",
            "2\n",
            "3\n",
            "5\n",
            "8\n",
            "13\n",
            "21\n",
            "34\n",
            "55\n",
            "89\n",
            "144\n",
            "233\n",
            "377\n",
            "610\n",
            "987\n"
          ]
        }
      ]
    },
    {
      "cell_type": "code",
      "source": [
        "primo = True\n",
        "lista= [0, 1, 2]\n",
        "for x in range(3, 101):\n",
        "  for y in range(2,x):\n",
        "    if x % y ==0:\n",
        "     primo = False\n",
        "     break\n",
        "  if primo:\n",
        "    lista.append(x)\n",
        "  else:\n",
        "   primo = True\n",
        "print(lista)"
      ],
      "metadata": {
        "colab": {
          "base_uri": "https://localhost:8080/"
        },
        "id": "MZE0djF3XlfA",
        "outputId": "128be742-4fd9-43cb-801a-0bb0dc9028d0"
      },
      "execution_count": null,
      "outputs": [
        {
          "output_type": "stream",
          "name": "stdout",
          "text": [
            "[0, 1, 2, 3, 5, 7, 11, 13, 17, 19, 23, 29, 31, 37, 41, 43, 47, 53, 59, 61, 67, 71, 73, 79, 83, 89, 97]\n"
          ]
        }
      ]
    },
    {
      "cell_type": "code",
      "source": [
        "try:\n",
        "    idade = float(input(\"Digite a sua idade:\"))\n",
        "\n",
        "    if idade < 0:\n",
        "        print(\"bebê\")\n",
        "    elif idade <= 10:\n",
        "        print(\"Criança.\")\n",
        "    elif idade <= 19:\n",
        "        print(\"adolescente\")\n",
        "    elif idade <= 65:\n",
        "        print(\"Idoso\")\n",
        "    else:\n",
        "        print(\"Super idoso\")\n",
        "\n",
        "except ValueError:\n",
        "    print(\"Entrada inválida! Por favor, digite um número válido.\")"
      ],
      "metadata": {
        "colab": {
          "base_uri": "https://localhost:8080/"
        },
        "id": "Ad5VpGfQ-MaL",
        "outputId": "b69e51e6-c9a7-4719-9b79-3149212a6faf"
      },
      "execution_count": null,
      "outputs": [
        {
          "output_type": "stream",
          "name": "stdout",
          "text": [
            "Digite a sua idade:25\n",
            "Idoso\n"
          ]
        }
      ]
    },
    {
      "cell_type": "code",
      "source": [
        "import random\n",
        "\n",
        "answer = random.randint(1, 10)\n",
        "\n",
        "while 1 > 0:\n",
        "  adivinhe = int(input(\"Acerte o número entre 1 e 10:6\"))\n",
        "  if answer == adivinhe:\n",
        "    print(\"Você adivinhou!\")\n",
        "    break\n",
        "  elif answer < adivinhe and adivinhe <= 10:\n",
        "    print(\"Esse número é maior que o desejado.\")\n",
        "  elif adivinhe >10:\n",
        "    print(\"Esse número não existe na sequência.\")\n",
        "  else:\n",
        "    print(\"Esse número é menor que o desejado.\")"
      ],
      "metadata": {
        "colab": {
          "base_uri": "https://localhost:8080/",
          "height": 375
        },
        "id": "bgM2dr_aBJXJ",
        "outputId": "cd91673e-badf-43e9-8ea1-cdf8dd536278"
      },
      "execution_count": null,
      "outputs": [
        {
          "output_type": "error",
          "ename": "KeyboardInterrupt",
          "evalue": "Interrupted by user",
          "traceback": [
            "\u001b[0;31m---------------------------------------------------------------------------\u001b[0m",
            "\u001b[0;31mKeyboardInterrupt\u001b[0m                         Traceback (most recent call last)",
            "\u001b[0;32m/tmp/ipython-input-70-1403054271.py\u001b[0m in \u001b[0;36m<cell line: 0>\u001b[0;34m()\u001b[0m\n\u001b[1;32m      4\u001b[0m \u001b[0;34m\u001b[0m\u001b[0m\n\u001b[1;32m      5\u001b[0m \u001b[0;32mwhile\u001b[0m \u001b[0;36m1\u001b[0m \u001b[0;34m>\u001b[0m \u001b[0;36m0\u001b[0m\u001b[0;34m:\u001b[0m\u001b[0;34m\u001b[0m\u001b[0;34m\u001b[0m\u001b[0m\n\u001b[0;32m----> 6\u001b[0;31m   \u001b[0madivinhe\u001b[0m \u001b[0;34m=\u001b[0m \u001b[0mint\u001b[0m\u001b[0;34m(\u001b[0m\u001b[0minput\u001b[0m\u001b[0;34m(\u001b[0m\u001b[0;34m\"Acerte o número entre 1 e 10:6\"\u001b[0m\u001b[0;34m)\u001b[0m\u001b[0;34m)\u001b[0m\u001b[0;34m\u001b[0m\u001b[0;34m\u001b[0m\u001b[0m\n\u001b[0m\u001b[1;32m      7\u001b[0m   \u001b[0;32mif\u001b[0m \u001b[0manswer\u001b[0m \u001b[0;34m==\u001b[0m \u001b[0madivinhe\u001b[0m\u001b[0;34m:\u001b[0m\u001b[0;34m\u001b[0m\u001b[0;34m\u001b[0m\u001b[0m\n\u001b[1;32m      8\u001b[0m     \u001b[0mprint\u001b[0m\u001b[0;34m(\u001b[0m\u001b[0;34m\"Você adivinhou!\"\u001b[0m\u001b[0;34m)\u001b[0m\u001b[0;34m\u001b[0m\u001b[0;34m\u001b[0m\u001b[0m\n",
            "\u001b[0;32m/usr/local/lib/python3.11/dist-packages/ipykernel/kernelbase.py\u001b[0m in \u001b[0;36mraw_input\u001b[0;34m(self, prompt)\u001b[0m\n\u001b[1;32m   1175\u001b[0m                 \u001b[0;34m\"raw_input was called, but this frontend does not support input requests.\"\u001b[0m\u001b[0;34m\u001b[0m\u001b[0;34m\u001b[0m\u001b[0m\n\u001b[1;32m   1176\u001b[0m             )\n\u001b[0;32m-> 1177\u001b[0;31m         return self._input_request(\n\u001b[0m\u001b[1;32m   1178\u001b[0m             \u001b[0mstr\u001b[0m\u001b[0;34m(\u001b[0m\u001b[0mprompt\u001b[0m\u001b[0;34m)\u001b[0m\u001b[0;34m,\u001b[0m\u001b[0;34m\u001b[0m\u001b[0;34m\u001b[0m\u001b[0m\n\u001b[1;32m   1179\u001b[0m             \u001b[0mself\u001b[0m\u001b[0;34m.\u001b[0m\u001b[0m_parent_ident\u001b[0m\u001b[0;34m[\u001b[0m\u001b[0;34m\"shell\"\u001b[0m\u001b[0;34m]\u001b[0m\u001b[0;34m,\u001b[0m\u001b[0;34m\u001b[0m\u001b[0;34m\u001b[0m\u001b[0m\n",
            "\u001b[0;32m/usr/local/lib/python3.11/dist-packages/ipykernel/kernelbase.py\u001b[0m in \u001b[0;36m_input_request\u001b[0;34m(self, prompt, ident, parent, password)\u001b[0m\n\u001b[1;32m   1217\u001b[0m             \u001b[0;32mexcept\u001b[0m \u001b[0mKeyboardInterrupt\u001b[0m\u001b[0;34m:\u001b[0m\u001b[0;34m\u001b[0m\u001b[0;34m\u001b[0m\u001b[0m\n\u001b[1;32m   1218\u001b[0m                 \u001b[0;31m# re-raise KeyboardInterrupt, to truncate traceback\u001b[0m\u001b[0;34m\u001b[0m\u001b[0;34m\u001b[0m\u001b[0m\n\u001b[0;32m-> 1219\u001b[0;31m                 \u001b[0;32mraise\u001b[0m \u001b[0mKeyboardInterrupt\u001b[0m\u001b[0;34m(\u001b[0m\u001b[0;34m\"Interrupted by user\"\u001b[0m\u001b[0;34m)\u001b[0m \u001b[0;32mfrom\u001b[0m \u001b[0;32mNone\u001b[0m\u001b[0;34m\u001b[0m\u001b[0;34m\u001b[0m\u001b[0m\n\u001b[0m\u001b[1;32m   1220\u001b[0m             \u001b[0;32mexcept\u001b[0m \u001b[0mException\u001b[0m\u001b[0;34m:\u001b[0m\u001b[0;34m\u001b[0m\u001b[0;34m\u001b[0m\u001b[0m\n\u001b[1;32m   1221\u001b[0m                 \u001b[0mself\u001b[0m\u001b[0;34m.\u001b[0m\u001b[0mlog\u001b[0m\u001b[0;34m.\u001b[0m\u001b[0mwarning\u001b[0m\u001b[0;34m(\u001b[0m\u001b[0;34m\"Invalid Message:\"\u001b[0m\u001b[0;34m,\u001b[0m \u001b[0mexc_info\u001b[0m\u001b[0;34m=\u001b[0m\u001b[0;32mTrue\u001b[0m\u001b[0;34m)\u001b[0m\u001b[0;34m\u001b[0m\u001b[0;34m\u001b[0m\u001b[0m\n",
            "\u001b[0;31mKeyboardInterrupt\u001b[0m: Interrupted by user"
          ]
        }
      ]
    },
    {
      "cell_type": "code",
      "source": [
        "import random\n",
        "\n",
        "def jogar_pedra_papel_tesoura():\n",
        "    opcoes = ['pedra', 'papel', 'tesoura']\n",
        "    print(\"Bem-vindo ao Pedra, Papel, Tesoura!\")\n",
        "\n",
        "    while True:\n",
        "        try:\n",
        "            escolha_jogador = input(\"Escolha pedra, papel ou tesoura: \").lower()\n",
        "            if escolha_jogador not in opcoes:\n",
        "                raise ValueError(\"Escolha inválida. Tente novamente.\")\n",
        "\n",
        "            escolha_computador = random.choice(opcoes)\n",
        "            print(f\"O computador escolheu: {escolha_computador}\")\n",
        "\n",
        "            if escolha_jogador == escolha_computador:\n",
        "                print(\"Empate!\")\n",
        "            elif (escolha_jogador == 'pedra' and escolha_computador == 'tesoura') or \\\n",
        "                 (escolha_jogador == 'papel' and escolha_computador == 'pedra') or \\\n",
        "                 (escolha_jogador == 'tesoura' and escolha_computador == 'papel'):\n",
        "                print(\"Você venceu!\")\n",
        "            else:\n",
        "                print(\"Você perdeu!\")\n",
        "\n",
        "            jogar_novamente = input(\"Deseja jogar novamente? (sim/não): \").strip().lower()\n",
        "            if jogar_novamente != 'sim':\n",
        "                print(\"Obrigado por jogar! Até a próxima.\")\n",
        "                break\n",
        "\n",
        "        except ValueError as erro:\n",
        "            print(erro)\n",
        "\n",
        "if __name__ == \"__main__\":\n",
        "    jogar_pedra_papel_tesoura()"
      ],
      "metadata": {
        "colab": {
          "base_uri": "https://localhost:8080/"
        },
        "id": "4hKg1qlCNYtd",
        "outputId": "f761f1cb-f7d2-40c6-e9ec-4cf20a767aff"
      },
      "execution_count": null,
      "outputs": [
        {
          "output_type": "stream",
          "name": "stdout",
          "text": [
            "Bem-vindo ao Pedra, Papel, Tesoura!\n",
            "Escolha pedra, papel ou tesoura: pedra\n",
            "O computador escolheu: pedra\n",
            "Empate!\n",
            "Deseja jogar novamente? (sim/não): sim\n",
            "Escolha pedra, papel ou tesoura: tesoura\n",
            "O computador escolheu: papel\n",
            "Você venceu!\n",
            "Deseja jogar novamente? (sim/não): nao\n",
            "Obrigado por jogar! Até a próxima.\n"
          ]
        }
      ]
    },
    {
      "cell_type": "code",
      "source": [
        "idade = int(input(\"me fale sua idade\"))\n",
        "if  idade  <= 18 and idade <= 60:\n",
        "  print(\"você tem idade suficiente pra ser preso\")\n",
        "else:\n",
        "  print(\"saia daqui palhaço\")"
      ],
      "metadata": {
        "colab": {
          "base_uri": "https://localhost:8080/"
        },
        "id": "tk--VYjccET_",
        "outputId": "94cb763a-9c27-4cfc-f99f-8afba60e0b83"
      },
      "execution_count": null,
      "outputs": [
        {
          "output_type": "stream",
          "name": "stdout",
          "text": [
            "me fale sua idade14\n",
            "você tem idade suficiente pra ser preso\n"
          ]
        }
      ]
    },
    {
      "cell_type": "code",
      "source": [
        "login = input(\"Me fale seu login: \")\n",
        "senha = int(input(\"Digite sua senha: \"))\n",
        "\n",
        "login_sistema = \"admin\"\n",
        "senha_sistema = 1234\n",
        "\n",
        "if login == login_sistema and senha == senha_sistema:\n",
        "    print(\"Bem-vindo!\")\n",
        "else:\n",
        "    print(\"Login ou senha incorretos.\")"
      ],
      "metadata": {
        "colab": {
          "base_uri": "https://localhost:8080/"
        },
        "id": "WbqazBCUdqUW",
        "outputId": "16155f89-a5f9-47cd-f52d-f7317357eaf8"
      },
      "execution_count": null,
      "outputs": [
        {
          "output_type": "stream",
          "name": "stdout",
          "text": [
            "Me fale seu login: admin\n",
            "Digite sua senha: 1234\n",
            "Bem-vindo!\n"
          ]
        }
      ]
    },
    {
      "cell_type": "code",
      "source": [
        "number = int(input(\"Digite o seu número: \"))\n",
        "\n",
        "if number >= 0 and number <= 20:\n",
        "  print(number)\n",
        "else:\n",
        "  print(not number)\n"
      ],
      "metadata": {
        "colab": {
          "base_uri": "https://localhost:8080/"
        },
        "id": "nBVbW0Ipif9d",
        "outputId": "4850ffc1-c9fb-43be-ba33-dbb0bb99745f"
      },
      "execution_count": null,
      "outputs": [
        {
          "output_type": "stream",
          "name": "stdout",
          "text": [
            "Digite o seu número: 12\n",
            "12\n"
          ]
        }
      ]
    },
    {
      "cell_type": "code",
      "source": [
        "idade = int(input(\"me fale sua idade\"))\n",
        "if idade >= 16:\n",
        " print(\"você ja pode vota\")\n",
        "else:\n",
        "  print(\"você não pode votar\")\n",
        "if idade >= 18:\n",
        "  print(\"você ja pode dirigir\")\n",
        "else:\n",
        "  print(\"você não pode dirigir\")\n"
      ],
      "metadata": {
        "colab": {
          "base_uri": "https://localhost:8080/"
        },
        "id": "qO4Ki2LAgDOH",
        "outputId": "c39478a0-0ad0-4f9e-868e-f94a47f60a16"
      },
      "execution_count": null,
      "outputs": [
        {
          "output_type": "stream",
          "name": "stdout",
          "text": [
            "me fale sua idade65\n",
            "você ja pode vota\n",
            "você ja pode dirigir\n"
          ]
        }
      ]
    },
    {
      "cell_type": "code",
      "source": [
        "A = input(\"Digite True ou False para A: \") == \"true\"\n",
        "B = input(\"Digite True ou False para B: \") == \"true\"\n",
        "C = input(\"Digite True ou False para C: \") == \"true\"\n",
        "resultado = (A or B) and not C\n",
        "\n",
        "print(\"Resultado:\", resultado)"
      ],
      "metadata": {
        "colab": {
          "base_uri": "https://localhost:8080/"
        },
        "id": "MeNfQn27lxqk",
        "outputId": "4895744f-1125-4b20-df0f-6208e4d0a8a5"
      },
      "execution_count": null,
      "outputs": [
        {
          "output_type": "stream",
          "name": "stdout",
          "text": [
            "Digite True ou False para A: false\n",
            "Digite True ou False para B: true\n",
            "Digite True ou False para C: true\n",
            "Resultado: False\n"
          ]
        }
      ]
    },
    {
      "cell_type": "code",
      "source": [
        "palindrome = []\n",
        "\n",
        "for num in range(10000, 998001):\n",
        "    if str(num) == str(num)[::-1]:\n",
        "        palindrome.append(num)\n",
        "\n",
        "print(max(palindrome))\n"
      ],
      "metadata": {
        "colab": {
          "base_uri": "https://localhost:8080/"
        },
        "id": "Tpwj5R3Gpp_r",
        "outputId": "9fa36cc7-2823-49a8-c7e7-97f7bd937a58"
      },
      "execution_count": null,
      "outputs": [
        {
          "output_type": "stream",
          "name": "stdout",
          "text": [
            "997799\n"
          ]
        }
      ]
    },
    {
      "cell_type": "code",
      "source": [
        "try:\n",
        "    num1 = float(input(\"Digite o primeiro número: \"))\n",
        "    num2 = float(input(\"Digite o segundo número: \"))\n",
        "\n",
        "    soma = num1 + num2\n",
        "\n",
        "    print(\"A soma dos dois números é:\", soma)\n",
        "\n",
        "except ValueError:\n",
        "\n",
        "    print(\"digite um número válido.\")"
      ],
      "metadata": {
        "colab": {
          "base_uri": "https://localhost:8080/"
        },
        "id": "42MzRmqybSVd",
        "outputId": "fdcda404-8fcd-4ecc-b307-55c887de7392"
      },
      "execution_count": null,
      "outputs": [
        {
          "output_type": "stream",
          "name": "stdout",
          "text": [
            "Digite o primeiro número: 800\n",
            "Digite o segundo número: 2000\n",
            "A soma dos dois números é: 2800.0\n"
          ]
        }
      ]
    },
    {
      "cell_type": "code",
      "source": [
        "num = int(input(\"Digite um número: \"))\n",
        "fatorial = 1\n",
        "for i in range(1, num + 1):\n",
        "    fatorial *= i\n",
        "print(f\"O fatorial de {num} é {fatorial}\")"
      ],
      "metadata": {
        "colab": {
          "base_uri": "https://localhost:8080/"
        },
        "id": "Hu5hqC49ec70",
        "outputId": "3eebe867-c787-4f83-88f9-d905eca9290f"
      },
      "execution_count": null,
      "outputs": [
        {
          "output_type": "stream",
          "name": "stdout",
          "text": [
            "Digite um número: 5\n",
            "O fatorial de 5 é 120\n"
          ]
        }
      ]
    },
    {
      "cell_type": "code",
      "source": [
        "numero = int(input(\"será que é primo?\"))\n",
        "for x in range(2, numero):\n",
        " if numero%x ==0:\n",
        "  print(\"O numero não é primo, ele é divisivel por\", x)\n",
        "  break\n",
        "else:\n",
        "  print(\"O numero é primo ele é divisivel por\", x)"
      ],
      "metadata": {
        "id": "KCQDHKjVnMnx"
      },
      "execution_count": null,
      "outputs": []
    },
    {
      "cell_type": "code",
      "source": [
        "x = int(input(\"Me diga um número: \"))\n",
        "\n",
        "if x % 2 == 0:\n",
        "    print(\"par\")\n",
        "else:\n",
        "    print(\"ímpar\")\n"
      ],
      "metadata": {
        "id": "8s3qtzmfnTcT",
        "colab": {
          "base_uri": "https://localhost:8080/"
        },
        "outputId": "c35f18cb-d9cd-497c-c134-72fbad67d41d"
      },
      "execution_count": null,
      "outputs": [
        {
          "output_type": "stream",
          "name": "stdout",
          "text": [
            "Me diga um número: 12\n",
            "par\n"
          ]
        }
      ]
    },
    {
      "cell_type": "code",
      "source": [
        "numeros = [10, 45, 2, 89, 33]\n",
        "maior = max(numeros)\n",
        "print(\"O maior número é:\", maior)"
      ],
      "metadata": {
        "colab": {
          "base_uri": "https://localhost:8080/"
        },
        "id": "Kc1lpGIZpJ46",
        "outputId": "8166ed6e-4a72-48b5-98c2-c4a88153f971"
      },
      "execution_count": null,
      "outputs": [
        {
          "output_type": "stream",
          "name": "stdout",
          "text": [
            "O maior número é: 89\n"
          ]
        }
      ]
    },
    {
      "cell_type": "code",
      "source": [
        "texto = input(\"Digite uma palavra ou frase: \")\n",
        "invertido = texto[::-1]\n",
        "print(\"Texto invertido:\", invertido)"
      ],
      "metadata": {
        "id": "7cuTZxSo71-H"
      },
      "execution_count": null,
      "outputs": []
    },
    {
      "cell_type": "code",
      "source": [
        "nome = input(\"Poderia me dizer seu nome?\")\n",
        "print(\"bem vindo\", nome , \"espero que goste do curso\")"
      ],
      "metadata": {
        "colab": {
          "base_uri": "https://localhost:8080/"
        },
        "id": "KSBRLwwZHsQn",
        "outputId": "d9126fe7-f1ca-432b-ce9c-64bd25b53be8"
      },
      "execution_count": null,
      "outputs": [
        {
          "output_type": "stream",
          "name": "stdout",
          "text": [
            "Poderia me dizer seu nome?falconi\n",
            "bem vindo falconi espero que goste do curso\n"
          ]
        }
      ]
    },
    {
      "cell_type": "code",
      "source": [
        "def saudacao():\n",
        "    print(\"Olá, que Deus te abençoe\")\n",
        "\n",
        "saudacao()"
      ],
      "metadata": {
        "colab": {
          "base_uri": "https://localhost:8080/"
        },
        "id": "nG8UixzIKb-L",
        "outputId": "4c44ceb0-36b0-4bae-bd5b-c584396e7989"
      },
      "execution_count": null,
      "outputs": [
        {
          "output_type": "stream",
          "name": "stdout",
          "text": [
            "Olá, que Deus te abençoe\n"
          ]
        }
      ]
    },
    {
      "cell_type": "code",
      "source": [
        "def soma(a, b):\n",
        "    return a + b\n",
        "resultado = soma(54, 43)\n",
        "print(\"A soma é:\", resultado)"
      ],
      "metadata": {
        "colab": {
          "base_uri": "https://localhost:8080/"
        },
        "id": "p8kSjakvOsM2",
        "outputId": "9b3ad5ff-aeab-4aa0-d4bc-b2c4675adf37"
      },
      "execution_count": null,
      "outputs": [
        {
          "output_type": "stream",
          "name": "stdout",
          "text": [
            "A soma é: 97\n"
          ]
        }
      ]
    },
    {
      "cell_type": "code",
      "source": [
        "def par_ou_impar(n):\n",
        "    return \"Par\" if n % 2 == 0 else \"Ímpar\"\n",
        "\n",
        "print(\"O número 13 é\", par_ou_impar(13))\n",
        "print(\"O número 18 é\", par_ou_impar(18))\n"
      ],
      "metadata": {
        "colab": {
          "base_uri": "https://localhost:8080/"
        },
        "id": "xK4mAUOOPCF-",
        "outputId": "8dfdda9b-a81d-4cf2-a9ba-2ac03125e225"
      },
      "execution_count": null,
      "outputs": [
        {
          "output_type": "stream",
          "name": "stdout",
          "text": [
            "O número 13 é Ímpar\n",
            "O número 18 é Par\n"
          ]
        }
      ]
    },
    {
      "cell_type": "code",
      "source": [
        "def fatorial(n, metodo='iterativo'):\n",
        "\n",
        "\n",
        "    if not isinstance(n, int):\n",
        "        raise TypeError(\"A entrada deve ser um número inteiro.\")\n",
        "    if n < 0:\n",
        "        raise ValueError(\"Não é possível calcular o fatorial de um número negativo.\")\n",
        "\n",
        "    if metodo == 'iterativo':\n",
        "        resultado = 1\n",
        "        for i in range(2, n + 1):\n",
        "            resultado *= i\n",
        "        return resultado\n",
        "\n",
        "    elif metodo == 'recursivo':\n",
        "        if n == 0 or n == 1:\n",
        "            return 1\n",
        "        else:\n",
        "            return n * fatorial(n - 1, metodo='recursivo')\n",
        "\n",
        "    else:\n",
        "        raise ValueError(\"Método inválido. Use 'iterativo' ou 'recursivo'.\")\n",
        "\n",
        "print(\"Fatorial de 5 (iterativo):\", fatorial(5, metodo='iterativo'))\n",
        "\n"
      ],
      "metadata": {
        "colab": {
          "base_uri": "https://localhost:8080/"
        },
        "id": "RmimXb-IQMR-",
        "outputId": "b8cd8229-8141-44d9-ca3c-39d7d293c396"
      },
      "execution_count": null,
      "outputs": [
        {
          "output_type": "stream",
          "name": "stdout",
          "text": [
            "Fatorial de 5 (iterativo): 120\n"
          ]
        }
      ]
    },
    {
      "cell_type": "code",
      "source": [
        "numeros = [10, 45, 2, 89, 33]\n",
        "maior = max(numeros)\n",
        "print(\"O maior número é:\", maior)"
      ],
      "metadata": {
        "id": "ld7McOVaRb_O"
      },
      "execution_count": null,
      "outputs": []
    },
    {
      "cell_type": "code",
      "source": [
        "def media(lista):\n",
        "    return sum(lista) / len(lista)\n",
        "valores = [10, 15, 34, 21]\n",
        "print(\"A média é:\", media(valores))"
      ],
      "metadata": {
        "colab": {
          "base_uri": "https://localhost:8080/"
        },
        "id": "JllY5m4MRcy-",
        "outputId": "72ff70be-fd79-4e35-8c87-8511802413e0"
      },
      "execution_count": null,
      "outputs": [
        {
          "output_type": "stream",
          "name": "stdout",
          "text": [
            "A média é: 20.0\n"
          ]
        }
      ]
    },
    {
      "cell_type": "code",
      "source": [],
      "metadata": {
        "id": "YUQvc6J2SQkF"
      },
      "execution_count": null,
      "outputs": []
    }
  ]
}